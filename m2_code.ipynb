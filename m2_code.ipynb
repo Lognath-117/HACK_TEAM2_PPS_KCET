{
  "nbformat": 4,
  "nbformat_minor": 0,
  "metadata": {
    "colab": {
      "provenance": []
    },
    "kernelspec": {
      "name": "python3",
      "display_name": "Python 3"
    },
    "language_info": {
      "name": "python"
    }
  },
  "cells": [
    {
      "cell_type": "code",
      "execution_count": 6,
      "metadata": {
        "id": "NZPae7ka2yVk"
      },
      "outputs": [],
      "source": [
        "import joblib\n",
        "model=joblib.load('/content/JOB_CHANGE.pkl')"
      ]
    },
    {
      "cell_type": "code",
      "source": [
        "print(\"Welcome to job switch prediction system\")\n",
        "jsl=int(input(\"Enter the job satisfaction level\"))\n",
        "se=int(input(\"Enter the salary expectations\"))\n",
        "wlb=int(input(\"Enter the work life balance satisfaction\"))\n",
        "ct=int(input(\"Enter the commute time\"))\n",
        "nyj=int(input(\"Enter the number of years in current job\"))"
      ],
      "metadata": {
        "colab": {
          "base_uri": "https://localhost:8080/"
        },
        "id": "dzp3Sslp2z7U",
        "outputId": "c521a1df-f865-4dac-8eca-c49489addbfe"
      },
      "execution_count": 3,
      "outputs": [
        {
          "name": "stdout",
          "output_type": "stream",
          "text": [
            "Welcome to job switch prediction system\n",
            "Enter the job satisfaction level5\n",
            "Enter the salary expectations20000\n",
            "Enter the work life balance satisfaction1\n",
            "Enter the commute time20\n",
            "Enter the number of years in current job10\n"
          ]
        }
      ]
    },
    {
      "cell_type": "code",
      "source": [
        "ans=model.predict([[jsl,se,wlb,ct,nyj]])\n",
        "if ans[0]==1:\n",
        "  print(\"They will change\")\n",
        "else :\n",
        "  print(\"They will not change\")"
      ],
      "metadata": {
        "colab": {
          "base_uri": "https://localhost:8080/"
        },
        "id": "z3dHqUc12z9-",
        "outputId": "d6ebca68-7d07-4406-908e-05d41b766eba"
      },
      "execution_count": 5,
      "outputs": [
        {
          "output_type": "stream",
          "name": "stdout",
          "text": [
            "They will not change\n"
          ]
        },
        {
          "output_type": "stream",
          "name": "stderr",
          "text": [
            "/usr/local/lib/python3.11/dist-packages/sklearn/utils/validation.py:2739: UserWarning: X does not have valid feature names, but LogisticRegression was fitted with feature names\n",
            "  warnings.warn(\n"
          ]
        }
      ]
    },
    {
      "cell_type": "code",
      "source": [],
      "metadata": {
        "id": "3UaI7C4G20AX"
      },
      "execution_count": null,
      "outputs": []
    },
    {
      "cell_type": "code",
      "source": [],
      "metadata": {
        "id": "mEv0JKVM20Ct"
      },
      "execution_count": null,
      "outputs": []
    }
  ]
}